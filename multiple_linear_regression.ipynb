{
  "nbformat": 4,
  "nbformat_minor": 0,
  "metadata": {
    "colab": {
      "provenance": [],
      "authorship_tag": "ABX9TyNFqvDvH5DhN7nlwEMTGt+Q",
      "include_colab_link": true
    },
    "kernelspec": {
      "name": "python3",
      "display_name": "Python 3"
    },
    "language_info": {
      "name": "python"
    }
  },
  "cells": [
    {
      "cell_type": "markdown",
      "metadata": {
        "id": "view-in-github",
        "colab_type": "text"
      },
      "source": [
        "<a href=\"https://colab.research.google.com/github/ignadr/ML-Algorithms-Manual/blob/main/multiple_linear_regression.ipynb\" target=\"_parent\"><img src=\"https://colab.research.google.com/assets/colab-badge.svg\" alt=\"Open In Colab\"/></a>"
      ]
    },
    {
      "cell_type": "code",
      "source": [
        "import numpy as np\n",
        "import math\n",
        "import matplotlib.pyplot as plt"
      ],
      "metadata": {
        "id": "dtg_oc6t0Cp7"
      },
      "execution_count": null,
      "outputs": []
    },
    {
      "cell_type": "code",
      "execution_count": null,
      "metadata": {
        "colab": {
          "base_uri": "https://localhost:8080/"
        },
        "id": "rO-QkBCAn4jL",
        "outputId": "68165911-829e-4592-e727-7f5f31028d96"
      },
      "outputs": [
        {
          "output_type": "stream",
          "name": "stdout",
          "text": [
            "[[2104    5    1   45]\n",
            " [1416    3    2   40]\n",
            " [ 852    2    1   35]]\n",
            "(3, 4)\n",
            "[460 232 178]\n",
            "(3,)\n"
          ]
        }
      ],
      "source": [
        "# Mock data\n",
        "X_train = np.array([[2104, 5, 1, 45], [1416, 3, 2, 40], [852, 2, 1, 35]])\n",
        "y_train = np.array([460, 232, 178])\n",
        "\n",
        "print(X_train)\n",
        "print(X_train.shape)\n",
        "print(y_train)\n",
        "print(y_train.shape)"
      ]
    },
    {
      "cell_type": "code",
      "source": [
        "# Mock w and b\n",
        "w_init = np.array([ 1, 15, -45, -19])\n",
        "b_init = 600\n",
        "\n",
        "# From the course\n",
        "# b_init = 785.1811367994083\n",
        "# w_init = np.array([ 0.39133535, 18.75376741, -53.36032453, -26.42131618])\n",
        "\n",
        "print(w_init)\n",
        "print(w_init.shape)\n",
        "print(b_init)"
      ],
      "metadata": {
        "colab": {
          "base_uri": "https://localhost:8080/"
        },
        "id": "S6DAAWon0PxC",
        "outputId": "7a2964e1-d25f-4f42-bb9e-5a1e6f52ddda"
      },
      "execution_count": null,
      "outputs": [
        {
          "output_type": "stream",
          "name": "stdout",
          "text": [
            "[  1  15 -45 -19]\n",
            "(4,)\n",
            "600\n"
          ]
        }
      ]
    },
    {
      "cell_type": "markdown",
      "source": [
        "## Prediction for a single row"
      ],
      "metadata": {
        "id": "WEg6MNjB39Tc"
      }
    },
    {
      "cell_type": "code",
      "source": [
        "def compute_multiple_linear_model(x, w, b):\n",
        "  # Single feature prediction using vectorization\n",
        "  f_wb = np.dot(x, w) + b\n",
        "\n",
        "  return f_wb"
      ],
      "metadata": {
        "id": "07thrisR0lWY"
      },
      "execution_count": null,
      "outputs": []
    },
    {
      "cell_type": "code",
      "source": [
        "print(f\"Prediction for row 1: {compute_multiple_linear_model(X_train[0, :], w_init, b_init)}\")"
      ],
      "metadata": {
        "colab": {
          "base_uri": "https://localhost:8080/"
        },
        "id": "b8lxpygm1WJz",
        "outputId": "8877014b-e1f9-43f9-f32b-c309c4f9dabd"
      },
      "execution_count": null,
      "outputs": [
        {
          "output_type": "stream",
          "name": "stdout",
          "text": [
            "Prediction for row 1: 1879\n"
          ]
        }
      ]
    },
    {
      "cell_type": "markdown",
      "source": [
        "## Cost function"
      ],
      "metadata": {
        "id": "uI46yPk34Br-"
      }
    },
    {
      "cell_type": "code",
      "source": [
        "def compute_cost(x, y, w, b):\n",
        "  m = x.shape[0]\n",
        "\n",
        "  cost_sum = 0\n",
        "\n",
        "  for i in range(m):\n",
        "    f_wb = np.dot(x[i], w) + b\n",
        "    cost_sum = cost_sum + ((f_wb - y[i]) ** 2)\n",
        "\n",
        "  total_cost = cost_sum / (2 * m)\n",
        "\n",
        "  return total_cost"
      ],
      "metadata": {
        "id": "be0h-CsJ2waC"
      },
      "execution_count": null,
      "outputs": []
    },
    {
      "cell_type": "code",
      "source": [
        "print(f\"Current cost: {compute_cost(X_train, y_train, w_init, b_init)}\")"
      ],
      "metadata": {
        "colab": {
          "base_uri": "https://localhost:8080/"
        },
        "id": "IzN2ngLK6irM",
        "outputId": "441b16e8-e44f-49b1-cf83-633676a3356c"
      },
      "execution_count": null,
      "outputs": [
        {
          "output_type": "stream",
          "name": "stdout",
          "text": [
            "Current cost: 554139.6666666666\n"
          ]
        }
      ]
    },
    {
      "cell_type": "markdown",
      "source": [
        "## Gradient Descent"
      ],
      "metadata": {
        "id": "M86Dqhxd7Vk6"
      }
    },
    {
      "cell_type": "code",
      "source": [
        "def compute_gradient(x, y, w, b):\n",
        "  m, n = x.shape\n",
        "  dj_dw = np.zeros((n,))\n",
        "  dj_db = 0\n",
        "\n",
        "  # Iterate through all rows\n",
        "  for i in range(m):\n",
        "    err = np.dot(x[i], w) + b - y[i]\n",
        "\n",
        "    # Iterate through all features\n",
        "    for j in range(n):\n",
        "      dj_dw[j] = dj_dw[j] + err * x[i, j]\n",
        "\n",
        "    dj_db = dj_db + err\n",
        "\n",
        "  dj_dw = dj_dw / m\n",
        "  dj_db = dj_db / m\n",
        "\n",
        "  return dj_dw, dj_db"
      ],
      "metadata": {
        "id": "Gx45TQgt7Yfj"
      },
      "execution_count": null,
      "outputs": []
    },
    {
      "cell_type": "code",
      "source": [
        "def gradient_descent(x, y, w_init, b_init, alpha, num_iter, cost_function, gradient_function):\n",
        "  J_hist = []\n",
        "\n",
        "  w = w_init\n",
        "  b = b_init\n",
        "\n",
        "  for i in range(num_iter):\n",
        "    dj_dw, dj_db = gradient_function(x, y, w, b)\n",
        "    w = w - alpha * dj_dw\n",
        "    b = b - alpha * dj_db\n",
        "\n",
        "    if i<100000:\n",
        "      J_hist.append( cost_function(x, y, w, b))\n",
        "\n",
        "    if i % math.ceil(num_iter/10) == 0:\n",
        "      print(f\"Iteration: {i}\\t\\t\\tcost: {J_hist[i]:.3f}\")\n",
        "\n",
        "  return w, b, J_hist"
      ],
      "metadata": {
        "id": "fI4dTjlmbgtW"
      },
      "execution_count": null,
      "outputs": []
    },
    {
      "cell_type": "code",
      "source": [
        "w_final, b_final, J_hist = gradient_descent(X_train, y_train, w_init, b_init, 0.00000083, 10000, compute_cost, compute_gradient)"
      ],
      "metadata": {
        "colab": {
          "base_uri": "https://localhost:8080/"
        },
        "id": "GzHWL7mjduHS",
        "outputId": "03cc4fc9-f7be-434c-ac3c-2fa9ca07bfc5"
      },
      "execution_count": null,
      "outputs": [
        {
          "output_type": "stream",
          "name": "stdout",
          "text": [
            "Iteration: 0\t\t\tcost: 533937.222\n",
            "Iteration: 1000\t\t\tcost: 86.284\n",
            "Iteration: 2000\t\t\tcost: 76.854\n",
            "Iteration: 3000\t\t\tcost: 68.717\n",
            "Iteration: 4000\t\t\tcost: 61.696\n",
            "Iteration: 5000\t\t\tcost: 55.638\n",
            "Iteration: 6000\t\t\tcost: 50.410\n",
            "Iteration: 7000\t\t\tcost: 45.899\n",
            "Iteration: 8000\t\t\tcost: 42.006\n",
            "Iteration: 9000\t\t\tcost: 38.646\n"
          ]
        }
      ]
    },
    {
      "cell_type": "code",
      "source": [
        "print(f\"w_final: {w_final}\")\n",
        "\n",
        "print(f\"Predicted value: {compute_multiple_linear_model(X_train, w_final, b_final)}\\t\\t\\tActual value: {y_train}\")"
      ],
      "metadata": {
        "colab": {
          "base_uri": "https://localhost:8080/"
        },
        "id": "6BSozL9ofBmv",
        "outputId": "45c029d3-35b5-4371-f0ac-323abd9cc032"
      },
      "execution_count": null,
      "outputs": [
        {
          "output_type": "stream",
          "name": "stdout",
          "text": [
            "w_final: [  0.33658909  15.01142087 -45.05862182 -19.71285918]\n",
            "Predicted value: [451.07876048 242.9883016  181.76355391]\t\t\tActual value: [460 232 178]\n"
          ]
        }
      ]
    }
  ]
}